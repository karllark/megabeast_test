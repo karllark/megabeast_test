{
 "cells": [
  {
   "cell_type": "markdown",
   "id": "f4e625c0",
   "metadata": {},
   "source": [
    "# Simluating a population of stars with dust extinction\n",
    "\n",
    "The MegaBEAST (MB) can be used to simulate observations of a population of stars extinguished by dust.\n",
    "\n",
    "The MB uses a hierarchical Bayesian framework.\n",
    "\n",
    "The 1st most level is provided by the BEAST that provides models of individual stars.  The BEAST model is based on 7 parameters.  The stellar parameters are age (logA), initial mass (M_ini), metallicity (Z), and distance (distance).  The dust extinction parameters are dust column (Av), average dust size (Rv), and MW/SMC composition (f_A).  For the details see Gordon et al. (2016) and the BEAST docs.\n",
    "\n",
    "The MB uses the BEAST physics and observation models to perform the simulations.  The MB physics model describes the stellar population and dust extinction distributions.  The MB stellar age distribution is given by the `logA` model (often star formation rate in specific age bins), the `M_ini` model (e.g, initital mass function), the `Z` model (often relative values in specific age bins), and the `distance` model (e.g., flat or absolute exponential center on a specific distance).  The MB dust distribution is given by the `Av`, `Rv`, and `f_A` models that are each often two lognormals - one for internal dust and one for foreground dust.\n",
    "\n",
    "The MB physics model is the equivalent of the BEAST prior model.  In fact, the MB uses the BEAST prior model code to calculate the MB physics model.  All the possible MB distributions are documented at https://beast.readthedocs.io/en/latest/beast_priors.html"
   ]
  },
  {
   "cell_type": "markdown",
   "id": "90f36936",
   "metadata": {},
   "source": [
    "## Specifying the MegaBEAST physics model\n",
    "\n",
    "The MB physics model is specified using two python dictonaries."
   ]
  },
  {
   "cell_type": "markdown",
   "id": "ff1a0f9f",
   "metadata": {},
   "source": [
    "### MB stellar physics model"
   ]
  },
  {
   "cell_type": "code",
   "execution_count": 1,
   "id": "4bbb6c90",
   "metadata": {},
   "outputs": [],
   "source": [
    "# stellar population model\n",
    "stellar_model = {\n",
    "    \"name\": \"bins_histo\",\n",
    "    \"x\": [6.0, 7.0, 8.0, 9.0, 10.0],  # units are log(years)\n",
    "    \"logA\": {  # star formation history SFH\n",
    "        \"name\": \"bins_histo\",\n",
    "        \"varnames\": [\"values\"],\n",
    "        \"varinit\": [[1e-8, 1e-8, 1e-8, 1e-8, 1e-8]],  # units are M_sun/year\n",
    "        \"prior\": {\n",
    "            \"name\": \"fixed\",\n",
    "            \"minmax\": [[0.0, 0.0, 0.0, 0.0, 0.0], [1e-3, 1e-3, 1e-3, 1e-3, 1e-3]],\n",
    "        },\n",
    "    },\n",
    "    \"M_ini\": {  # initial mass function\n",
    "        \"name\": \"salpeter\",\n",
    "        \"varnames\": [\"slope\"],\n",
    "        \"varinit\": [2.35],\n",
    "        \"prior\": {\n",
    "          \"name\": \"fixed\",\n",
    "          \"minmax\": [[2.0, 3.0]],\n",
    "        }\n",
    "    },\n",
    "    \"Z\": {\n",
    "        \"name\": \"bins_histo\",\n",
    "        \"init\": [-0.3, -0.3, -0.3, -0.3, -0.3],\n",
    "        \"prior\": {\n",
    "            \"name\": \"fixed\",\n",
    "            \"min\": [-2.1, -2.1, -2.1, -2.1, -2.1],\n",
    "            \"max\": [0.0, 0.0, 0.0, 0.0, 0.0],\n",
    "        },\n",
    "    },\n",
    "    \"distance\": {\n",
    "        \"name\": \"Gaussian\",\n",
    "        \"m_unit\": \"kpc\",\n",
    "        \"m_init\": 60.0,  # units are\n",
    "        \"s_init\": 5.0,\n",
    "        \"d_prior\": {\"name\": \"flat\", \"min\": 50.0, \"max\": 70.0},\n",
    "        \"s_prior\": {\"name\": \"flat\", \"min\": 1.0, \"max\": 10.0},\n",
    "    },\n",
    "}\n"
   ]
  },
  {
   "cell_type": "markdown",
   "id": "feebb30f",
   "metadata": {},
   "source": [
    "### MB dust extinction model\n",
    "\n",
    "This example is for a foreground screen of dust.  (should update to a more realistic foreground plus internal dust)"
   ]
  },
  {
   "cell_type": "code",
   "execution_count": 2,
   "id": "2a8cd587",
   "metadata": {},
   "outputs": [],
   "source": [
    "# foreground dust cloud\n",
    "dust_model = {\n",
    "    \"Av\": {\n",
    "        \"name\": \"lognormal\",\n",
    "        \"varnames\": [\"mean\", \"sigma\"],\n",
    "        \"varinit\": [1.0, 0.1],\n",
    "        \"prior\": {\n",
    "            \"name\": \"flat\",\n",
    "            \"minmax\": [[0.005, 5.0], [0.05, 1.0]],\n",
    "        },\n",
    "    },\n",
    "    \"Rv\": {\n",
    "        \"name\": \"lognormal\",\n",
    "        \"varnames\": [\"mean\", \"sigma\"],\n",
    "        \"varinit\": [3.1, 0.25],\n",
    "        \"prior\": {\n",
    "            # \"name\": \"fixed\",\n",
    "            \"name\": \"flat\",\n",
    "            \"minmax\": [[2.0, 6.0], [0.05, 1.0]],\n",
    "        },\n",
    "    },\n",
    "    \"f_A\": {\n",
    "        \"name\": \"lognormal\",\n",
    "        \"varnames\": [\"mean\", \"sigma\"],\n",
    "        \"varinit\": [1.0, 0.25],\n",
    "        \"prior\": {\n",
    "            \"name\": \"fixed\",\n",
    "            \"minmax\": [[0.0, 1.0], [0.05, 0.5]],\n",
    "        },\n",
    "    }\n",
    "}\n"
   ]
  },
  {
   "cell_type": "markdown",
   "id": "ac2037e0",
   "metadata": {},
   "source": [
    "### setup MegaBEAST params\n",
    "\n",
    "The two dictonaries can be provide in a text file or in code directly.  This notebook uses the code option."
   ]
  },
  {
   "cell_type": "code",
   "execution_count": 3,
   "id": "d715b865",
   "metadata": {},
   "outputs": [],
   "source": [
    "from megabeast.mbsettings import mbsettings\n",
    "\n",
    "mbparams = mbsettings()\n",
    "mbparams.dict_to_attr(stellar_model | dust_model)"
   ]
  },
  {
   "cell_type": "code",
   "execution_count": 4,
   "id": "87302400",
   "metadata": {},
   "outputs": [
    {
     "name": "stdout",
     "output_type": "stream",
     "text": [
      "<megabeast.mbsettings.mbsettings object at 0x7ff9109976d0>\n"
     ]
    }
   ],
   "source": []
  },
  {
   "cell_type": "code",
   "execution_count": null,
   "id": "1c18b03c",
   "metadata": {},
   "outputs": [],
   "source": []
  }
 ],
 "metadata": {
  "kernelspec": {
   "display_name": "Python 3 (ipykernel)",
   "language": "python",
   "name": "python3"
  },
  "language_info": {
   "codemirror_mode": {
    "name": "ipython",
    "version": 3
   },
   "file_extension": ".py",
   "mimetype": "text/x-python",
   "name": "python",
   "nbconvert_exporter": "python",
   "pygments_lexer": "ipython3",
   "version": "3.9.7"
  }
 },
 "nbformat": 4,
 "nbformat_minor": 5
}
