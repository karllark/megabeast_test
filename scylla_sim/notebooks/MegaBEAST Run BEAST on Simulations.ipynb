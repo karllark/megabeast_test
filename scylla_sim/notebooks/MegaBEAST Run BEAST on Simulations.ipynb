{
 "cells": [
  {
   "cell_type": "code",
   "execution_count": 1,
   "id": "78731ec6",
   "metadata": {},
   "outputs": [],
   "source": [
    "import os\n",
    "\n",
    "# BEAST imports\n",
    "from beast.tools.run import (\n",
    "    create_physicsmodel,\n",
    "    make_ast_inputs,\n",
    "    create_obsmodel,\n",
    "    run_fitting,\n",
    ")\n",
    "from beast.physicsmodel.grid import SEDGrid\n",
    "from beast.observationmodel.observations import Observations\n",
    "import beast.observationmodel.noisemodel.generic_noisemodel as noisemodel\n",
    "from beast.fitting import trim_grid\n",
    "from beast.tools import beast_settings"
   ]
  },
  {
   "cell_type": "code",
   "execution_count": 2,
   "id": "42938b28",
   "metadata": {},
   "outputs": [
    {
     "name": "stdout",
     "output_type": "stream",
     "text": [
      "Padova CMD isochrones\n",
      "Working on the PARSEC isochrone\n"
     ]
    }
   ],
   "source": [
    "# read in basic BEAST settings\n",
    "settings = beast_settings.beast_settings(\"../beast_sim/beast_settings.txt\")"
   ]
  },
  {
   "cell_type": "code",
   "execution_count": 3,
   "id": "5bc1f31a",
   "metadata": {},
   "outputs": [
    {
     "name": "stdout",
     "output_type": "stream",
     "text": [
      "scylla_sim_single_av1/scylla_sim_Av1.fits\n"
     ]
    }
   ],
   "source": [
    "print(settings.obsfile)"
   ]
  },
  {
   "cell_type": "code",
   "execution_count": 7,
   "id": "6fc7a280",
   "metadata": {},
   "outputs": [
    {
     "name": "stdout",
     "output_type": "stream",
     "text": [
      "not using full covariance matrix\n"
     ]
    },
    {
     "name": "stderr",
     "output_type": "stream",
     "text": [
      "Calculating Lnp/Stats: 100%|███████████████████████████████████████████████████| 1000/1000 [03:19<00:00,  5.00it/s]\n"
     ]
    },
    {
     "name": "stdout",
     "output_type": "stream",
     "text": [
      "Done fitting on grid scylla_sim/scylla_sim_seds_trim.grid.hd5\n",
      "None\n",
      "time to fit:  3.398064709099708  min\n"
     ]
    }
   ],
   "source": [
    "# simulated obs file\n",
    "basenames = [\"scylla_sim_av01\", \"scylla_sim_av1\", \"scylla_sim_av3\",\n",
    "             \"scylla_sim_avsig01\", \"scylla_sim_avsig05\"]\n",
    "basenames = [\"scylla_sim_twoln_av1\"]\n",
    "for basename in basenames:\n",
    "    settings.obsfile = f\"scylla_sim_av_var/{basename}.fits\"\n",
    "\n",
    "    run_fitting.run_fitting(\n",
    "        settings,\n",
    "        use_sd=False,\n",
    "        nprocs=1,\n",
    "        pdf2d_param_list=None,\n",
    "    )\n",
    "    os.rename(\"scylla_sim/scylla_sim_lnp.hd5\", f\"scylla_sim_av_var/{basename}_lnp.hd5\")\n",
    "    os.rename(\"scylla_sim/scylla_sim_stats.fits\", f\"scylla_sim_av_var/{basename}_stats.fits\")"
   ]
  },
  {
   "cell_type": "code",
   "execution_count": null,
   "id": "effc25a6",
   "metadata": {},
   "outputs": [],
   "source": []
  }
 ],
 "metadata": {
  "kernelspec": {
   "display_name": "Python 3 (ipykernel)",
   "language": "python",
   "name": "python3"
  },
  "language_info": {
   "codemirror_mode": {
    "name": "ipython",
    "version": 3
   },
   "file_extension": ".py",
   "mimetype": "text/x-python",
   "name": "python",
   "nbconvert_exporter": "python",
   "pygments_lexer": "ipython3",
   "version": "3.9.7"
  }
 },
 "nbformat": 4,
 "nbformat_minor": 5
}
