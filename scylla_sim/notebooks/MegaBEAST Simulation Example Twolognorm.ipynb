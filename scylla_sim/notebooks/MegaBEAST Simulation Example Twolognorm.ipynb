{
 "cells": [
  {
   "cell_type": "markdown",
   "id": "f4e625c0",
   "metadata": {},
   "source": [
    "# Simluating a population of dust extinguished stars\n",
    "\n",
    "The MegaBEAST (MB) can be used to simulate observations of a population of stars extinguished by dust.\n",
    "\n",
    "The MB uses a hierarchical Bayesian framework.\n",
    "\n",
    "The 1st model level is provided by the BEAST that provides models of individual stars.  The BEAST model is based on 7 parameters.  The stellar parameters are age (logA), initial mass (M_ini), metallicity (Z), and distance (distance).  The dust extinction parameters are dust column (Av), average dust size (Rv), and MW/SMC composition (f_A).  For the details see Gordon et al. (2016) and the BEAST docs.\n",
    "\n",
    "The MB uses the BEAST physics and observation models to perform the simulations.  The MB physics model describes the stellar population and dust extinction distributions.  The MB stellar age distribution is given by the `logA` model (often star formation rate in specific age bins), the `M_ini` model (e.g, initital mass function), the `Z` model (often relative values in specific age bins), and the `distance` model (e.g., flat or absolute exponential center on a specific distance).  The MB dust distribution is given by the `Av`, `Rv`, and `f_A` models that are each often two lognormals - one for internal dust and one for foreground dust.\n",
    "\n",
    "The MB physics model is the equivalent of the BEAST prior model.  In fact, the MB uses the BEAST prior model code to calculate the MB physics model.  All the possible MB distributions are documented at https://beast.readthedocs.io/en/latest/beast_priors.html"
   ]
  },
  {
   "cell_type": "markdown",
   "id": "90f36936",
   "metadata": {},
   "source": [
    "## Specifying the MegaBEAST physics model\n",
    "\n",
    "The MB physics model is specified using a python dictionary.  Here we specify it in two python dictonaries, one for the stellar part and one for the dust part, and then combine them into one for initializing the MB model.\n",
    "\n",
    "The prior information is not used in the simualtion.  It is included here as the MB initialization expects it."
   ]
  },
  {
   "cell_type": "markdown",
   "id": "ff1a0f9f",
   "metadata": {},
   "source": [
    "### MB stellar physics model"
   ]
  },
  {
   "cell_type": "code",
   "execution_count": 1,
   "id": "4bbb6c90",
   "metadata": {},
   "outputs": [],
   "source": [
    "import astropy.units as u\n",
    "\n",
    "# stellar population model\n",
    "stellar_model = {\n",
    "    \"logA\": {  # star formation history SFH\n",
    "        \"name\": \"bins_histo\",\n",
    "        \"x\": [6.0, 7.0, 8.0, 9.0, 10.0],  # units are log(years)\n",
    "        \"varnames\": [\"values\"],\n",
    "        \"varinit\": [[1e-8, 1e-8, 1e-8, 1e-8, 1e-8]],  # units are M_sun/year\n",
    "        \"prior\": {\n",
    "            \"name\": \"flat\",\n",
    "            \"minmax\": [[0.0, 0.0, 0.0, 0.0, 0.0], [1e-3, 1e-3, 1e-3, 1e-3, 1e-3]],\n",
    "        },\n",
    "    },\n",
    "    \"M_ini\": {  # initial mass function - no parameters yet\n",
    "        \"name\": \"salpeter\",\n",
    "        \"varnames\": [\"slope\"],\n",
    "        \"varinit\": [2.35],\n",
    "        \"prior\": {\n",
    "          \"name\": \"flat\",\n",
    "          \"minmax\": [[2.0, 3.0]],\n",
    "        }\n",
    "    },\n",
    "    \"Z\": {\n",
    "        \"name\": \"flat\",\n",
    "#        \"name\": \"bins_histo\",  # not in the BEAST yet\n",
    "#        \"varnames\": [\"values\"],\n",
    "#        \"varinit\": [0.5, 0.5, 0.5, 0.5, 0.5, 0.5],\n",
    "#        \"prior\": {\n",
    "#            \"name\": \"flat\",\n",
    "#            \"minmax\": [[0.0, 0.0, 0.0, 0.0, 0.0], [1.0, 1.0, 1.0, 1.0, 1.0]],\n",
    "#        },\n",
    "    },    \n",
    "    \"distance\": {  # no parameters yet\n",
    "        \"name\": \"absexponential\",\n",
    "        \"varnames\": [\"dist0\", \"tau\", \"amp\"],\n",
    "        \"varinit\": [60.0 * u.kpc, 5. * u.kpc, 1.0],\n",
    "        \"prior\": {\n",
    "            \"name\": \"flat\",\n",
    "            \"minmax\": [[50.0, 3.0, 0.9], [70.0, 7.0, 1.1]],\n",
    "        }\n",
    "    },\n",
    "}\n"
   ]
  },
  {
   "cell_type": "markdown",
   "id": "feebb30f",
   "metadata": {},
   "source": [
    "### MB dust extinction model\n",
    "\n",
    "This example is for a foreground screen of dust.  (should update to a more realistic foreground plus internal dust)"
   ]
  },
  {
   "cell_type": "code",
   "execution_count": 2,
   "id": "2a8cd587",
   "metadata": {},
   "outputs": [],
   "source": [
    "av_prior_model = {\"name\": \"two_lognormal\",\n",
    "                  \"mean1\": 0.2,\n",
    "                  \"mean2\": 2.0,\n",
    "                  \"sigma1\": 1.0,\n",
    "                  \"sigma2\": 0.2,\n",
    "                  \"N1_to_N2\": 1.0 / 5.0}\n",
    "\n",
    "# foreground plus internal dust cloud\n",
    "dust_model = {\n",
    "    \"Av\": {\n",
    "        \"name\": \"two_lognormal\",\n",
    "        \"varnames\": [\"mean1\", \"mean2\", \"sigma1\", \"sigma2\", \"N1_to_N2\"],\n",
    "        \"varinit\": [0.2, 3.0, 0.05, 0.5, 1.0],\n",
    "        \"prior\": {\n",
    "            \"name\": \"flat\",\n",
    "            \"minmax\": [[0.005, 5.0], [0.005, 5.0], [0.05, 1.0], [0.05, 1.0], [0.2, 2.0]],\n",
    "        },\n",
    "    },\n",
    "    \"Rv\": {\n",
    "        \"name\": \"lognormal\",\n",
    "        \"varnames\": [\"mean\", \"sigma\"],\n",
    "        \"varinit\": [3.1, 0.25],\n",
    "        \"prior\": {\n",
    "            # \"name\": \"fixed\",\n",
    "            \"name\": \"flat\",\n",
    "            \"minmax\": [[2.0, 6.0], [0.05, 1.0]],\n",
    "        },\n",
    "    },\n",
    "    \"f_A\": {\n",
    "        \"name\": \"lognormal\",\n",
    "        \"varnames\": [\"mean\", \"sigma\"],\n",
    "        \"varinit\": [1.0, 0.25],\n",
    "        \"prior\": {\n",
    "            \"name\": \"flat\",\n",
    "            \"minmax\": [[0.0, 1.0], [0.05, 0.5]],\n",
    "        },\n",
    "    }\n",
    "}\n"
   ]
  },
  {
   "cell_type": "markdown",
   "id": "ac2037e0",
   "metadata": {},
   "source": [
    "### Ingest MegaBEAST params"
   ]
  },
  {
   "cell_type": "code",
   "execution_count": 3,
   "id": "d715b865",
   "metadata": {},
   "outputs": [],
   "source": [
    "from megabeast.mbmodel import MBModel\n",
    "\n",
    "mod = MBModel(stellar_model, dust_model)"
   ]
  },
  {
   "cell_type": "markdown",
   "id": "b9f10632",
   "metadata": {},
   "source": [
    "## Simulate observed catalogs\n",
    "\n",
    "Based on a BEAST physics and noise models.  See the BEAST docs (https://beast.readthedocs.io/en/latest/index.html) for how to create these needed files.\n",
    "\n",
    "BEAST physics grid has the full range of ages, a Kroupa IMF, a single metallicity, a single distance, Avs from 0 to 5, Rvs from 2 to 5, and f_A values from 0 to 1.\n",
    "\n",
    "BEAST noise model based on a LMC Scylla field.\n",
    "\n",
    "Simulate different mean Av values using the same BEAST physics and noise models."
   ]
  },
  {
   "cell_type": "code",
   "execution_count": 4,
   "id": "2794d1b7",
   "metadata": {},
   "outputs": [
    {
     "name": "stdout",
     "output_type": "stream",
     "text": [
      "{'name': 'two_lognormal', 'varnames': ['mean1', 'mean2', 'sigma1', 'sigma2', 'N1_to_N2'], 'prior': {'name': 'flat', 'minmax': [[0.005, 5.0], [0.005, 5.0], [0.05, 1.0], [0.05, 1.0], [0.2, 2.0]]}, 'mean1': 0.2, 'mean2': 3.0, 'sigma1': 0.05, 'sigma2': 0.5, 'N1_to_N2': 1.0, 'nsubvars': 1, 'model': <beast.physicsmodel.priormodel.PriorDustModel object at 0x7f04f9da5c40>}\n"
     ]
    }
   ],
   "source": [
    "from megabeast.tools.simulate_obs import simulate_obs\n",
    "\n",
    "# format of Av physics model, useful to know which variables to change\n",
    "print(mod.physics_model[\"Av\"])"
   ]
  },
  {
   "cell_type": "code",
   "execution_count": 6,
   "id": "e5d03312",
   "metadata": {},
   "outputs": [
    {
     "name": "stdout",
     "output_type": "stream",
     "text": [
      "computing megabeast ensemble physics model (replaces beast priors)\n",
      "computing the distance plus weights for dist =  60000.0\n",
      "computing the age-mass-metallicity grid weight for Z =  0.00762\n",
      "Completeness from HST_WFC3_F475W\n",
      "number of simulated stars = 1000\n"
     ]
    }
   ],
   "source": [
    "mod.physics_model[\"Av\"][\"mean2\"] = 1.0\n",
    "simcat_av1 = simulate_obs(\n",
    "    \"../beast_sim/scylla_sim/scylla_sim_seds.grid.hd5\",\n",
    "    \"../beast_sim/scylla_sim/scylla_sim_noisemodel.grid.hd5\",\n",
    "    mbmodel=mod,\n",
    "    nsim=1000,\n",
    "    compl_filter=\"F475W\",\n",
    "    weight_to_use=\"weight\",\n",
    ")\n",
    "simcat_av1.write(\"../beast_sim/scylla_sim_av_var/scylla_sim_twoln_av1.fits\",overwrite=True)"
   ]
  },
  {
   "cell_type": "code",
   "execution_count": null,
   "id": "de01929e",
   "metadata": {},
   "outputs": [],
   "source": []
  }
 ],
 "metadata": {
  "kernelspec": {
   "display_name": "Python 3 (ipykernel)",
   "language": "python",
   "name": "python3"
  },
  "language_info": {
   "codemirror_mode": {
    "name": "ipython",
    "version": 3
   },
   "file_extension": ".py",
   "mimetype": "text/x-python",
   "name": "python",
   "nbconvert_exporter": "python",
   "pygments_lexer": "ipython3",
   "version": "3.9.7"
  }
 },
 "nbformat": 4,
 "nbformat_minor": 5
}
